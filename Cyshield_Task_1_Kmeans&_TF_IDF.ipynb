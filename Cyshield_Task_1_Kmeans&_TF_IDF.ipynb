{
  "cells": [
    {
      "cell_type": "code",
      "execution_count": null,
      "metadata": {
        "id": "joF4jcVBbp22"
      },
      "outputs": [],
      "source": [
        "def search_str(text_file_path, words_list):\n",
        "    words_list_dict = {}\n",
        "    with open(text_file_path, 'r') as file:\n",
        "        # read all content of a file\n",
        "        content = file.readlines()\n",
        "        for word in words_list:\n",
        "          word = word.lower()\n",
        "          word_count = 0\n",
        "          for sentencte in content :\n",
        "            sentencte= sentencte.lower()\n",
        "            if word in sentencte:\n",
        "              word_count += 1\n",
        "          words_list_dict[word] = word_count\n",
        "\n",
        "    return words_list_dict\n",
        "\n"
      ]
    },
    {
      "cell_type": "code",
      "execution_count": null,
      "metadata": {
        "id": "claui22CpOHo"
      },
      "outputs": [],
      "source": [
        "z = search_str('/content/Aristo-Mini-Corpus-Dec2016.txt', ['Corprate', 'Puplic' ,'Media' , 'Education' ,'possible' , 'rewards', 'Zakaria'])"
      ]
    },
    {
      "cell_type": "code",
      "execution_count": null,
      "metadata": {
        "colab": {
          "base_uri": "https://localhost:8080/"
        },
        "id": "OYxCXpelpkrr",
        "outputId": "371cf657-fd03-445c-82b4-97921f4d6b96"
      },
      "outputs": [
        {
          "data": {
            "text/plain": [
              "{'corprate': 0,\n",
              " 'puplic': 1,\n",
              " 'media': 4224,\n",
              " 'education': 1927,\n",
              " 'possible': 2907,\n",
              " 'rewards': 34,\n",
              " 'zakaria': 7}"
            ]
          },
          "execution_count": 77,
          "metadata": {},
          "output_type": "execute_result"
        }
      ],
      "source": [
        "z"
      ]
    },
    {
      "cell_type": "code",
      "execution_count": null,
      "metadata": {
        "id": "fy3ynwbXAUtm"
      },
      "outputs": [],
      "source": [
        "import nltk"
      ]
    },
    {
      "cell_type": "code",
      "execution_count": null,
      "metadata": {
        "colab": {
          "base_uri": "https://localhost:8080/"
        },
        "id": "euP-f_FcABCq",
        "outputId": "2debf0e6-56bd-41fb-fa3c-218fe304cc58"
      },
      "outputs": [
        {
          "output_type": "stream",
          "name": "stderr",
          "text": [
            "[nltk_data] Downloading package stopwords to /root/nltk_data...\n",
            "[nltk_data]   Unzipping corpora/stopwords.zip.\n"
          ]
        }
      ],
      "source": [
        "stopwords = nltk.download('stopwords')"
      ]
    },
    {
      "cell_type": "code",
      "source": [
        "import pandas as pd\n",
        "from sklearn.feature_extraction.text import TfidfVectorizer\n",
        "from sklearn.cluster import KMeans\n",
        "from sklearn.metrics import adjusted_rand_score\n",
        "import string\n",
        "from nltk.corpus import stopwords\n",
        "import json\n",
        "import glob\n",
        "import re"
      ],
      "metadata": {
        "id": "4QwLvPJXQGWW"
      },
      "execution_count": null,
      "outputs": []
    },
    {
      "cell_type": "code",
      "execution_count": null,
      "metadata": {
        "colab": {
          "base_uri": "https://localhost:8080/"
        },
        "id": "k6vaqyTml-1l",
        "outputId": "3ed50b31-7484-42e1-8117-266f4a75300b"
      },
      "outputs": [
        {
          "output_type": "stream",
          "name": "stdout",
          "text": [
            "An ANCYL member who was shot and severely injured by SAP members at Lephoi, Bethulie, Orange Free State (OFS) on 17 April 1991. Police opened fire on a gathering at an ANC supporter's house following a dispute between two neighbours, one of whom was linked to the ANC and the other to the SAP and a councillor.\n",
            "['anc', 'anc supporters', 'house', 'injured', 'member', 'members', 'police', 'sap', 'severely', 'shot', 'supporters']\n"
          ]
        }
      ],
      "source": [
        "\n",
        "\n",
        "def load_data(file):\n",
        "    with open (file, \"r\", encoding=\"utf-8\") as f:\n",
        "        data = json.load(f)\n",
        "    return (data)\n",
        "\n",
        "def write_data(file, data):\n",
        "    with open (file, \"w\", encoding=\"utf-8\") as f:\n",
        "        json.dump(data, f, indent=4)\n",
        "\n",
        "def remove_stops(text, stops):\n",
        "    text = re.sub(r\"AC\\/\\d{1,4}\\/\\d{1,4}\", \"\", text)\n",
        "    words = text.split()\n",
        "    final = []\n",
        "    for word in words:\n",
        "        if word not in stops:\n",
        "            final.append(word)\n",
        "    final = \" \".join(final)\n",
        "    final = final.translate(str.maketrans(\"\", \"\", string.punctuation))\n",
        "    final = \"\".join([i for i in final if not i.isdigit()])\n",
        "    while \"  \" in final:\n",
        "        final = final.replace(\"  \", \" \")\n",
        "    return (final)\n",
        "\n",
        "def clean_docs(docs):\n",
        "    stops = stopwords.words(\"english\")\n",
        "    months = load_data(\"months.json\")\n",
        "    stops = stops+months\n",
        "    final = []\n",
        "    for doc in docs:\n",
        "        clean_doc = remove_stops(doc, stops)\n",
        "        final.append(clean_doc)\n",
        "    return (final)\n",
        "\n",
        "descriptions = load_data(\"trc_dn.json\")[\"descriptions\"]\n",
        "names = load_data(\"trc_dn.json\")[\"names\"]\n",
        "\n",
        "# print (descriptions[0])\n",
        "\n",
        "cleaned_docs = clean_docs(descriptions)\n",
        "# print (cleaned_docs[0])\n",
        "\n",
        "vectorizer = TfidfVectorizer(\n",
        "                                lowercase=True,\n",
        "                                max_features=100,\n",
        "                                max_df=0.8,\n",
        "                                min_df=5,\n",
        "                                ngram_range = (1,3),\n",
        "                                stop_words = \"english\"\n",
        "                            )\n",
        "\n",
        "vectors = vectorizer.fit_transform(cleaned_docs)\n",
        "\n",
        "feature_names = vectorizer.get_feature_names_out()\n",
        "\n",
        "dense = vectors.todense()\n",
        "denselist = dense.tolist()\n",
        "\n",
        "all_keywords = []\n",
        "\n",
        "for description in denselist:\n",
        "    x=0\n",
        "    keywords = []\n",
        "    for word in description:\n",
        "        if word > 0:\n",
        "            keywords.append(feature_names[x])\n",
        "        x=x+1\n",
        "    all_keywords.append(keywords)\n",
        "print (descriptions[0])\n",
        "print (all_keywords[0])\n",
        "\n",
        "true_k = 10\n",
        "\n",
        "model = KMeans(n_clusters=true_k, init=\"k-means++\", max_iter=100, n_init=1)\n",
        "\n",
        "model.fit(vectors)\n",
        "\n",
        "order_centroids = model.cluster_centers_.argsort()[:, ::-1]\n",
        "terms = vectorizer.get_feature_names_out()\n",
        "\n",
        "with open (\"trc_results.txt\", \"w\", encoding=\"utf-8\") as f:\n",
        "    for i in range(true_k):\n",
        "        f.write(f\"Cluster {i}\")\n",
        "        f.write(\"\\n\")\n",
        "        for ind in order_centroids[i, :10]:\n",
        "            f.write (' %s' % terms[ind],)\n",
        "            f.write(\"\\n\")\n",
        "        f.write(\"\\n\")\n",
        "        f.write(\"\\n\")\n",
        "\n"
      ]
    },
    {
      "cell_type": "code",
      "execution_count": null,
      "metadata": {
        "id": "bEDnUHkb_wDW"
      },
      "outputs": [],
      "source": [
        "all_keywords"
      ]
    },
    {
      "cell_type": "code",
      "source": [],
      "metadata": {
        "id": "jXhSrDQQvC-g"
      },
      "execution_count": null,
      "outputs": []
    }
  ],
  "metadata": {
    "colab": {
      "provenance": []
    },
    "kernelspec": {
      "display_name": "Python 3",
      "name": "python3"
    },
    "language_info": {
      "name": "python"
    }
  },
  "nbformat": 4,
  "nbformat_minor": 0
}